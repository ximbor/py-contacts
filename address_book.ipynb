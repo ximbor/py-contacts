{
 "cells": [
  {
   "metadata": {
    "ExecuteTime": {
     "end_time": "2025-05-19T20:15:41.457001Z",
     "start_time": "2025-05-19T20:15:41.447155Z"
    }
   },
   "cell_type": "code",
   "source": "",
   "id": "27092da50a234f3d",
   "outputs": [],
   "execution_count": 4
  },
  {
   "metadata": {
    "ExecuteTime": {
     "end_time": "2025-05-19T16:28:52.790533Z",
     "start_time": "2025-05-19T16:28:52.741485Z"
    }
   },
   "cell_type": "code",
   "source": [
    "from repositories.json_contacts_repository import JsonContactsRepository\n",
    "from renderers.text_contact_renderer import TextContactRenderer\n",
    "from renderers.html_contact_renderer import HtmlContactRenderer\n",
    "\n",
    "repo = JsonContactsRepository(\"./data/contacts.json\")\n",
    "\n",
    "contacts = repo.search()\n",
    "\n",
    "#test_delete = repo.delete(\"Simone2\", \"Borda2\")\n",
    "HtmlContactRenderer().display_many(contacts)\n",
    "TextContactRenderer().display_many(contacts)\n"
   ],
   "id": "fbc121e30a2defb3",
   "outputs": [
    {
     "data": {
      "text/plain": [
       "<IPython.core.display.HTML object>"
      ],
      "text/html": [
       "<hr/>"
      ]
     },
     "metadata": {},
     "output_type": "display_data"
    },
    {
     "data": {
      "text/plain": [
       "<IPython.core.display.HTML object>"
      ],
      "text/html": [
       "\n",
       "            <div style=\"border: 1px solid #ccc; border-radius: 10px; padding: 16px; max-width: 500px; font-family: sans-serif;\">              \n",
       "              <div><strong>👤 First name: </strong> Simone</div>\n",
       "              <div><strong>👤 Last name: </strong> Borda</div>\n",
       "              <div><strong>📧 Email: </strong> simoneb81@gmail.com</div>\n",
       "              <div><strong>📞 Phone numbers: </strong>\n",
       "                <ul style=\"margin: 4px 0 10px 20px; padding: 0;\">\n",
       "                  <li>3398056931</li><li>0302520561</li>\n",
       "                </ul>\n",
       "              </div>\n",
       "              <div><strong>📍 Address: </strong> Piazza della Vittoria, 33 , Brescia, IT, 25100</div>\n",
       "\n",
       "              <div><strong>🏷️ Tags:</strong>\n",
       "                <span style=\"background: #e0f7fa; border-radius: 4px; padding: 2px 6px; margin-right: 4px;\">work</span><span style=\"background: #e0f7fa; border-radius: 4px; padding: 2px 6px; margin-right: 4px;\">school</span><span style=\"background: #e0f7fa; border-radius: 4px; padding: 2px 6px; margin-right: 4px;\">tennis</span>\n",
       "              </div>\n",
       "            </div>\n",
       "        "
      ]
     },
     "metadata": {},
     "output_type": "display_data"
    },
    {
     "data": {
      "text/plain": [
       "<IPython.core.display.HTML object>"
      ],
      "text/html": [
       "\n",
       "            <div style=\"border: 1px solid #ccc; border-radius: 10px; padding: 16px; max-width: 500px; font-family: sans-serif;\">              \n",
       "              <div><strong>👤 First name: </strong> Simone2</div>\n",
       "              <div><strong>👤 Last name: </strong> Borda2</div>\n",
       "              <div><strong>📧 Email: </strong> simoneb81@gmail.com</div>\n",
       "              <div><strong>📞 Phone numbers: </strong>\n",
       "                <ul style=\"margin: 4px 0 10px 20px; padding: 0;\">\n",
       "                  <li>3398056931</li><li>0302520561</li>\n",
       "                </ul>\n",
       "              </div>\n",
       "              <div><strong>📍 Address: </strong> Piazza della Vittoria, 33 , Brescia, IT, 25100</div>\n",
       "\n",
       "              <div><strong>🏷️ Tags:</strong>\n",
       "                <span style=\"background: #e0f7fa; border-radius: 4px; padding: 2px 6px; margin-right: 4px;\">work</span><span style=\"background: #e0f7fa; border-radius: 4px; padding: 2px 6px; margin-right: 4px;\">school</span><span style=\"background: #e0f7fa; border-radius: 4px; padding: 2px 6px; margin-right: 4px;\">tennis</span>\n",
       "              </div>\n",
       "            </div>\n",
       "        "
      ]
     },
     "metadata": {},
     "output_type": "display_data"
    },
    {
     "data": {
      "text/plain": [
       "<IPython.core.display.HTML object>"
      ],
      "text/html": [
       "<hr/>"
      ]
     },
     "metadata": {},
     "output_type": "display_data"
    },
    {
     "name": "stdout",
     "output_type": "stream",
     "text": [
      "==================================================\n",
      "First name     : Simone\n",
      "Last name      : Borda\n",
      "E-mail         : simoneb81@gmail.com\n",
      "phone numbers  : • 3398056931\n",
      "                 • 0302520561\n",
      "Address        : Piazza della Vittoria, 33 , Brescia, IT, 25100\n",
      "Tags           : • work\n",
      "                 • school\n",
      "                 • tennis\n",
      "==================================================\n",
      "First name     : Simone2\n",
      "Last name      : Borda2\n",
      "E-mail         : simoneb81@gmail.com\n",
      "phone numbers  : • 3398056931\n",
      "                 • 0302520561\n",
      "Address        : Piazza della Vittoria, 33 , Brescia, IT, 25100\n",
      "Tags           : • work\n",
      "                 • school\n",
      "                 • tennis\n",
      "\n"
     ]
    }
   ],
   "execution_count": 1
  },
  {
   "metadata": {},
   "cell_type": "code",
   "outputs": [],
   "execution_count": null,
   "source": "",
   "id": "c36b9b035b63d6e"
  }
 ],
 "metadata": {
  "kernelspec": {
   "display_name": "Python 3",
   "language": "python",
   "name": "python3"
  },
  "language_info": {
   "codemirror_mode": {
    "name": "ipython",
    "version": 2
   },
   "file_extension": ".py",
   "mimetype": "text/x-python",
   "name": "python",
   "nbconvert_exporter": "python",
   "pygments_lexer": "ipython2",
   "version": "2.7.6"
  }
 },
 "nbformat": 4,
 "nbformat_minor": 5
}
