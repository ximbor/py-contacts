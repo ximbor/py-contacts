{
 "cells": [
  {
   "metadata": {},
   "cell_type": "code",
   "source": "",
   "id": "27092da50a234f3d",
   "outputs": [],
   "execution_count": null
  },
  {
   "metadata": {},
   "cell_type": "code",
   "source": [
    "from repositories.json_contacts_repository import JsonContactsRepository\n",
    "from renderers.text_contact_renderer import TextContactRenderer\n",
    "from renderers.html_contact_renderer import HtmlContactRenderer\n",
    "\n",
    "repo = JsonContactsRepository(\"./data/contacts.json\")\n",
    "\n",
    "contacts = repo.search()\n",
    "\n",
    "#test_delete = repo.delete(\"Simone2\", \"Borda2\")\n",
    "HtmlContactRenderer().display_many(contacts)\n",
    "TextContactRenderer().display_many(contacts)\n"
   ],
   "id": "fbc121e30a2defb3",
   "outputs": [],
   "execution_count": null
  },
  {
   "metadata": {},
   "cell_type": "code",
   "source": "",
   "id": "c36b9b035b63d6e",
   "outputs": [],
   "execution_count": null
  }
 ],
 "metadata": {
  "kernelspec": {
   "display_name": "Python 3",
   "language": "python",
   "name": "python3"
  },
  "language_info": {
   "codemirror_mode": {
    "name": "ipython",
    "version": 2
   },
   "file_extension": ".py",
   "mimetype": "text/x-python",
   "name": "python",
   "nbconvert_exporter": "python",
   "pygments_lexer": "ipython2",
   "version": "2.7.6"
  }
 },
 "nbformat": 4,
 "nbformat_minor": 5
}
